{
 "cells": [
  {
   "cell_type": "markdown",
   "metadata": {},
   "source": [
    "# Neural Network - Training on Binary Lists"
   ]
  },
  {
   "cell_type": "markdown",
   "metadata": {},
   "source": [
    "This notebook shows how to set up a training scenario using a neural network.\n",
    "It will be used to feedforward a list of bits and convert it to a number."
   ]
  },
  {
   "cell_type": "markdown",
   "metadata": {},
   "source": [
    "## Code Implementation"
   ]
  },
  {
   "cell_type": "markdown",
   "metadata": {},
   "source": [
    "### Libraries and Helper Functions"
   ]
  },
  {
   "cell_type": "markdown",
   "metadata": {},
   "source": [
    "First, we need to import `NeuralNetwork`."
   ]
  },
  {
   "cell_type": "code",
   "execution_count": 239,
   "metadata": {},
   "outputs": [],
   "source": [
    "from datetime import datetime\n",
    "\n",
    "import numpy as np\n",
    "\n",
    "from neural_network.neural_network import NeuralNetwork\n"
   ]
  },
  {
   "cell_type": "markdown",
   "metadata": {},
   "source": [
    "We can define some helper functions to analyse the results from the training."
   ]
  },
  {
   "cell_type": "code",
   "execution_count": 240,
   "metadata": {},
   "outputs": [],
   "source": [
    "def generate_time_msg() -> str:\n",
    "    \"\"\"\n",
    "    Get message prefix with current datetime.\n",
    "    \"\"\"\n",
    "    time_msg = f\"[{datetime.now().strftime('%d-%m-%G | %H:%M:%S')}]\"\n",
    "    return time_msg\n",
    "\n",
    "\n",
    "def print_system_msg(msg: str) -> None:\n",
    "    \"\"\"\n",
    "    Print a message to the terminal.\n",
    "\n",
    "    Parameters:\n",
    "        msg (str): Message to print\n",
    "    \"\"\"\n",
    "    print(f\"{generate_time_msg()} {msg}\")\n",
    "\n",
    "\n",
    "def print_flushed_msg(msg: str) -> None:\n",
    "    \"\"\"\n",
    "    Print a flushed message to the terminal.\n",
    "\n",
    "    Parameters:\n",
    "        msg (str): Message to print\n",
    "    \"\"\"\n",
    "    print(f\"\\r{generate_time_msg()} {msg}\", flush=True, end=\"\")\n",
    "\n",
    "\n",
    "def calculate_rms(errors: list[float]) -> float:\n",
    "    \"\"\"\n",
    "    Calculate RMS from errors.\n",
    "\n",
    "    Parameters:\n",
    "        errors (list[float]): Errors from neural network training\n",
    "\n",
    "    Returns:\n",
    "        rms (float): RMS from errors\n",
    "    \"\"\"\n",
    "    squared = np.square(errors)\n",
    "    mean = np.average(squared)\n",
    "    rms = np.sqrt(mean)\n",
    "    return rms\n",
    "\n",
    "\n",
    "def map_val(x: float, in_min: float, in_max: float, out_min: float, out_max: float) -> float:\n",
    "    \"\"\"\n",
    "    Map a value from an input range to an output range.\n",
    "\n",
    "    Parameters:\n",
    "        x (float): Number to map to new range\n",
    "        in_min (float): Lower bound of original range\n",
    "        in_max (float): Upper bound of original range\n",
    "        out_min (float): Lower bound of new range\n",
    "        out_max (float): Upper bound of new range\n",
    "\n",
    "    Returns:\n",
    "        y (float): Number mapped to new range\n",
    "    \"\"\"\n",
    "    y = (x - in_min) * (out_max - out_min) / (in_max - in_min) + out_min\n",
    "    return y\n"
   ]
  },
  {
   "cell_type": "markdown",
   "metadata": {},
   "source": [
    "### Creating Methods to Generate Training Data"
   ]
  },
  {
   "cell_type": "markdown",
   "metadata": {},
   "source": [
    "We will be using 8-bit numbers to train the neural network.\n",
    "We can use the following bit map to convert numbers between integers and byte lists."
   ]
  },
  {
   "cell_type": "code",
   "execution_count": 241,
   "metadata": {},
   "outputs": [
    {
     "name": "stdout",
     "output_type": "stream",
     "text": [
      "[24-04-2024 | 23:46:55] Bit map: [128  64  32  16   8   4   2   1]\n"
     ]
    }
   ],
   "source": [
    "NUM_BITS = 8\n",
    "BIT_MAP = np.array([2 ** (NUM_BITS - (i + 1)) for i in range(NUM_BITS)])\n",
    "print_system_msg(f\"Bit map: {BIT_MAP}\")\n",
    "\n",
    "\n",
    "def num_to_byte_list(num: int) -> list[int]:\n",
    "    \"\"\"\n",
    "    Convert a number to a list of bits.\n",
    "\n",
    "    Parameters:\n",
    "        num (int): Number to convert\n",
    "\n",
    "    Returns:\n",
    "        byte_list (list[int]): Number represented as list of bits\n",
    "    \"\"\"\n",
    "    _num_bin = bin(num)\n",
    "    _num_bytes = _num_bin[2:]\n",
    "    _padding = [0] * (NUM_BITS - len(_num_bytes))\n",
    "    byte_list = _padding + [int(b) for b in _num_bytes]\n",
    "    return byte_list\n"
   ]
  },
  {
   "cell_type": "markdown",
   "metadata": {},
   "source": [
    "With 8 bits, we can generate numbers between 0-255.\n",
    "The neural network outputs numbers between 0-1 and therefore we need to map the values accordingly."
   ]
  },
  {
   "cell_type": "code",
   "execution_count": 242,
   "metadata": {},
   "outputs": [],
   "source": [
    "IN_LIMS = [0, 255]\n",
    "OUT_LIMS = [0, 1]\n",
    "\n",
    "\n",
    "def training_data_from_num(num: int) -> tuple[list[int], list[float]]:\n",
    "    \"\"\"\n",
    "    Generate byte list and mapped number from a number to use in training.\n",
    "\n",
    "    Parameters:\n",
    "        num (int): Number to use for training data\n",
    "\n",
    "    Returns:\n",
    "        training_data (tuple[list[int], list[float]]): Input and expected output\n",
    "    \"\"\"\n",
    "    _byte_list = num_to_byte_list(num)\n",
    "    _mapped_num = map_val(num, IN_LIMS[0], IN_LIMS[1], OUT_LIMS[0], OUT_LIMS[1])\n",
    "    training_data = (_byte_list, [_mapped_num])\n",
    "    return training_data\n"
   ]
  },
  {
   "cell_type": "markdown",
   "metadata": {},
   "source": [
    "### Creating the Neural Network"
   ]
  },
  {
   "cell_type": "markdown",
   "metadata": {},
   "source": [
    "The number of inputs for the neural network is `NUM_BITS`.\n",
    "The number of outputs is 1 as we will be converting a float to a number in our original range.\n"
   ]
  },
  {
   "cell_type": "code",
   "execution_count": 243,
   "metadata": {},
   "outputs": [],
   "source": [
    "hidden_layer_sizes = [7, 5, 3]\n",
    "\n",
    "nn = NeuralNetwork(NUM_BITS, 1, hidden_layer_sizes)\n"
   ]
  },
  {
   "cell_type": "markdown",
   "metadata": {},
   "source": [
    "### Running the Algorithm"
   ]
  },
  {
   "cell_type": "markdown",
   "metadata": {},
   "source": [
    "To train the neural network, we will select a random number and train the neural network with the corresponding byte list and expected output."
   ]
  },
  {
   "cell_type": "code",
   "execution_count": 244,
   "metadata": {},
   "outputs": [
    {
     "name": "stdout",
     "output_type": "stream",
     "text": [
      "[24-04-2024 | 23:46:55] Beginning training with 30000 data points...\n",
      "[24-04-2024 | 23:47:12] 30000 / 30000 -> Training complete! Final error: 0.0097"
     ]
    }
   ],
   "source": [
    "num_iters = 30000\n",
    "print_system_msg(f\"Beginning training with {num_iters} data points...\")\n",
    "for i in range(num_iters):\n",
    "    random_num = np.random.randint(low=0, high=(IN_LIMS[1] + 1))\n",
    "    training_input, expected_output = training_data_from_num(random_num)\n",
    "    errors = nn.train(training_input, expected_output)\n",
    "    rms = calculate_rms(errors)\n",
    "    print_flushed_msg(f\"{i+1} / {num_iters} -> RMS: {rms:.4f}\")\n",
    "print_flushed_msg(f\"{num_iters} / {num_iters} -> Training complete! Final error: {rms:.4f}\")\n"
   ]
  },
  {
   "cell_type": "markdown",
   "metadata": {},
   "source": [
    "Now, we can test the neural network against some inputs and expected outputs to check its accuracy."
   ]
  },
  {
   "cell_type": "code",
   "execution_count": 245,
   "metadata": {},
   "outputs": [
    {
     "name": "stdout",
     "output_type": "stream",
     "text": [
      "[24-04-2024 | 23:47:12] Beginning testing with 10 numbers...\n",
      "[24-04-2024 | 23:47:12] Expected: 170 \t| Output: 174.21 \t| Error: -4.21\n",
      "[24-04-2024 | 23:47:12] Expected: 247 \t| Output: 239.53 \t| Error: 7.47\n",
      "[24-04-2024 | 23:47:12] Expected: 179 \t| Output: 178.48 \t| Error: 0.52\n",
      "[24-04-2024 | 23:47:12] Expected: 38 \t| Output: 37.06 \t| Error: 0.94\n",
      "[24-04-2024 | 23:47:12] Expected: 8 \t| Output: 17.21 \t| Error: -9.21\n",
      "[24-04-2024 | 23:47:12] Expected: 181 \t| Output: 180.25 \t| Error: 0.75\n",
      "[24-04-2024 | 23:47:12] Expected: 78 \t| Output: 77.89 \t| Error: 0.11\n",
      "[24-04-2024 | 23:47:12] Expected: 48 \t| Output: 55.67 \t| Error: -7.67\n",
      "[24-04-2024 | 23:47:12] Expected: 71 \t| Output: 69.87 \t| Error: 1.13\n",
      "[24-04-2024 | 23:47:12] Expected: 215 \t| Output: 215.05 \t| Error: -0.05\n",
      "[24-04-2024 | 23:47:12] Testing complete! Average error: -1.02\n"
     ]
    }
   ],
   "source": [
    "num_tests = 10\n",
    "errors = []\n",
    "print_system_msg(f\"Beginning testing with {num_tests} numbers...\")\n",
    "for _ in range(num_tests):\n",
    "    random_num = np.random.randint(low=0, high=(IN_LIMS[1] + 1))\n",
    "    training_input, expected_output = training_data_from_num(random_num)\n",
    "    output = nn.feedforward(training_input)[0]\n",
    "    mapped_output = map_val(output, OUT_LIMS[0], OUT_LIMS[1], IN_LIMS[0], IN_LIMS[1])\n",
    "    error = random_num - mapped_output\n",
    "    errors.append(error)\n",
    "    print_system_msg(f\"Expected: {random_num} \\t| Output: {mapped_output:.2f} \\t| Error: {error:.2f}\")\n",
    "\n",
    "avg_error = np.average(errors)\n",
    "print_system_msg(f\"Testing complete! Average error: {avg_error:.2f}\")\n"
   ]
  }
 ],
 "metadata": {
  "kernelspec": {
   "display_name": "neural-network-u-ZqOggc",
   "language": "python",
   "name": "python3"
  },
  "language_info": {
   "codemirror_mode": {
    "name": "ipython",
    "version": 3
   },
   "file_extension": ".py",
   "mimetype": "text/x-python",
   "name": "python",
   "nbconvert_exporter": "python",
   "pygments_lexer": "ipython3",
   "version": "3.11.4"
  }
 },
 "nbformat": 4,
 "nbformat_minor": 2
}
