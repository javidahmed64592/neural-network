{
 "cells": [
  {
   "cell_type": "markdown",
   "metadata": {},
   "source": [
    "# Neural Network - Training on Binary Lists"
   ]
  },
  {
   "cell_type": "markdown",
   "metadata": {},
   "source": [
    "This notebook shows how to set up a training scenario using a neural network.\n",
    "It will be used to feedforward a list of bits and convert it to a number."
   ]
  },
  {
   "cell_type": "markdown",
   "metadata": {},
   "source": [
    "## Code Implementation"
   ]
  },
  {
   "cell_type": "markdown",
   "metadata": {},
   "source": [
    "### Libraries and Helper Functions"
   ]
  },
  {
   "cell_type": "markdown",
   "metadata": {},
   "source": [
    "First, we need to import `NeuralNetwork`."
   ]
  },
  {
   "cell_type": "code",
   "execution_count": 1,
   "metadata": {},
   "outputs": [],
   "source": [
    "from datetime import datetime\n",
    "\n",
    "import numpy as np\n",
    "\n",
    "from neural_network.math.activation_functions import LinearActivation, SigmoidActivation\n",
    "from neural_network.neural_network import NeuralNetwork\n",
    "from neural_network.nn.layer import HiddenLayer, InputLayer, OutputLayer"
   ]
  },
  {
   "cell_type": "markdown",
   "metadata": {},
   "source": [
    "We can define some helper functions to analyse the results from the training."
   ]
  },
  {
   "cell_type": "code",
   "execution_count": 2,
   "metadata": {},
   "outputs": [],
   "source": [
    "def generate_time_msg() -> str:\n",
    "    \"\"\"\n",
    "    Get message prefix with current datetime.\n",
    "    \"\"\"\n",
    "    time_msg = f\"[{datetime.now().strftime('%d-%m-%G | %H:%M:%S')}]\"\n",
    "    return time_msg\n",
    "\n",
    "\n",
    "def print_system_msg(msg: str) -> None:\n",
    "    \"\"\"\n",
    "    Print a message to the terminal.\n",
    "\n",
    "    Parameters:\n",
    "        msg (str): Message to print\n",
    "    \"\"\"\n",
    "    print(f\"{generate_time_msg()} {msg}\")\n",
    "\n",
    "\n",
    "def print_flushed_msg(msg: str) -> None:\n",
    "    \"\"\"\n",
    "    Print a flushed message to the terminal.\n",
    "\n",
    "    Parameters:\n",
    "        msg (str): Message to print\n",
    "    \"\"\"\n",
    "    print(f\"\\r{generate_time_msg()} {msg}\", flush=True, end=\"\")\n",
    "\n",
    "\n",
    "def calculate_rms(errors: list[float]) -> float:\n",
    "    \"\"\"\n",
    "    Calculate RMS from errors.\n",
    "\n",
    "    Parameters:\n",
    "        errors (list[float]): Errors from neural network training\n",
    "\n",
    "    Returns:\n",
    "        rms (float): RMS from errors\n",
    "    \"\"\"\n",
    "    squared = np.square(errors)\n",
    "    mean = np.average(squared)\n",
    "    rms = np.sqrt(mean)\n",
    "    return rms"
   ]
  },
  {
   "cell_type": "markdown",
   "metadata": {},
   "source": [
    "### Creating Methods to Generate Training Data"
   ]
  },
  {
   "cell_type": "markdown",
   "metadata": {},
   "source": [
    "We will be using 8-bit numbers to train the neural network.\n",
    "We can use the following bit map to convert numbers between integers and byte lists."
   ]
  },
  {
   "cell_type": "code",
   "execution_count": 3,
   "metadata": {},
   "outputs": [
    {
     "name": "stdout",
     "output_type": "stream",
     "text": [
      "[11-05-2024 | 21:18:15] Bit map: [128  64  32  16   8   4   2   1]\n"
     ]
    }
   ],
   "source": [
    "NUM_BITS = 8\n",
    "BIT_MAP = np.array([2 ** (NUM_BITS - (i + 1)) for i in range(NUM_BITS)])\n",
    "print_system_msg(f\"Bit map: {BIT_MAP}\")\n",
    "\n",
    "\n",
    "def num_to_byte_list(num: int) -> list[int]:\n",
    "    \"\"\"\n",
    "    Convert a number to a list of bits.\n",
    "\n",
    "    Parameters:\n",
    "        num (int): Number to convert\n",
    "\n",
    "    Returns:\n",
    "        byte_list (list[int]): Number represented as list of bits\n",
    "    \"\"\"\n",
    "    _num_bin = bin(num)\n",
    "    _num_bytes = _num_bin[2:]\n",
    "    _padding = [0] * (NUM_BITS - len(_num_bytes))\n",
    "    byte_list = _padding + [int(b) for b in _num_bytes]\n",
    "    return byte_list"
   ]
  },
  {
   "cell_type": "markdown",
   "metadata": {},
   "source": [
    "With 8 bits, we can generate numbers between 0-255.\n",
    "The neural network outputs numbers between 0-1 and therefore we need to map the values accordingly."
   ]
  },
  {
   "cell_type": "code",
   "execution_count": 4,
   "metadata": {},
   "outputs": [],
   "source": [
    "IN_LIMS = [0, 255]\n",
    "OUT_LIMS = [0, 1]\n",
    "\n",
    "\n",
    "def map_val(x: float, in_min: float, in_max: float, out_min: float, out_max: float) -> float:\n",
    "    \"\"\"\n",
    "    Map a value from an input range to an output range.\n",
    "\n",
    "    Parameters:\n",
    "        x (float): Number to map to new range\n",
    "        in_min (float): Lower bound of original range\n",
    "        in_max (float): Upper bound of original range\n",
    "        out_min (float): Lower bound of new range\n",
    "        out_max (float): Upper bound of new range\n",
    "\n",
    "    Returns:\n",
    "        y (float): Number mapped to new range\n",
    "    \"\"\"\n",
    "    y = (x - in_min) * (out_max - out_min) / (in_max - in_min) + out_min\n",
    "    return y\n",
    "\n",
    "\n",
    "def training_data_from_num(num: int) -> tuple[list[int], list[float]]:\n",
    "    \"\"\"\n",
    "    Generate byte list and mapped number from a number to use in training.\n",
    "\n",
    "    Parameters:\n",
    "        num (int): Number to use for training data\n",
    "\n",
    "    Returns:\n",
    "        training_data (tuple[list[int], list[float]]): Input and expected output\n",
    "    \"\"\"\n",
    "    _byte_list = np.array(num_to_byte_list(num))\n",
    "    _mapped_num = map_val(num, IN_LIMS[0], IN_LIMS[1], OUT_LIMS[0], OUT_LIMS[1])\n",
    "    training_data = (_byte_list, _mapped_num)\n",
    "    return training_data"
   ]
  },
  {
   "cell_type": "markdown",
   "metadata": {},
   "source": [
    "### Creating the Neural Network"
   ]
  },
  {
   "cell_type": "markdown",
   "metadata": {},
   "source": [
    "The number of inputs for the neural network is `NUM_BITS`.\n",
    "The number of outputs is 1 as we will be converting a float to a number in our original range.\n"
   ]
  },
  {
   "cell_type": "code",
   "execution_count": 5,
   "metadata": {},
   "outputs": [],
   "source": [
    "hidden_layer_sizes = [3]\n",
    "lr = 0.2\n",
    "\n",
    "input_layer = InputLayer(size=NUM_BITS, activation=LinearActivation)\n",
    "hidden_layers = [\n",
    "    HiddenLayer(size=size, activation=SigmoidActivation, weights_range=[-1, 1], bias_range=[-1, 1])\n",
    "    for size in hidden_layer_sizes\n",
    "]\n",
    "output_layer = OutputLayer(size=1, activation=SigmoidActivation, weights_range=[-1, 1], bias_range=[-1, 1])\n",
    "\n",
    "nn = NeuralNetwork(layers=[input_layer, *hidden_layers, output_layer], lr=lr)"
   ]
  },
  {
   "cell_type": "markdown",
   "metadata": {},
   "source": [
    "### Running the Algorithm"
   ]
  },
  {
   "cell_type": "markdown",
   "metadata": {},
   "source": [
    "To train the neural network, we will select a random number and train the neural network with the corresponding byte list and expected output.\n",
    "\n",
    "First, we need to create the dataset.\n",
    "We will generate a training dataset with the specified size.\n",
    "We will then allocate a subset of this data to be used for testing."
   ]
  },
  {
   "cell_type": "code",
   "execution_count": 6,
   "metadata": {},
   "outputs": [
    {
     "name": "stdout",
     "output_type": "stream",
     "text": [
      "[11-05-2024 | 21:18:15] Creating dataset with 30000 inputs and expected outputs...\n",
      "[11-05-2024 | 21:18:15] Training dataset: 24000 items | Test dataset: 6000 items\n"
     ]
    }
   ],
   "source": [
    "dataset_size = 30000\n",
    "test_dataset_ratio = 0.2\n",
    "\n",
    "print_system_msg(f\"Creating dataset with {dataset_size} inputs and expected outputs...\")\n",
    "dataset_inputs = []\n",
    "dataset_outputs = []\n",
    "\n",
    "for _ in range(dataset_size):\n",
    "    random_num = np.random.randint(low=IN_LIMS[0], high=(IN_LIMS[1] + 1))\n",
    "    training_input, expected_output = training_data_from_num(random_num)\n",
    "\n",
    "    dataset_inputs.append(training_input)\n",
    "    dataset_outputs.append(expected_output)\n",
    "\n",
    "train_dataset_input = dataset_inputs[: int(dataset_size * (1 - test_dataset_ratio))]\n",
    "train_dataset_output = dataset_outputs[: int(dataset_size * (1 - test_dataset_ratio))]\n",
    "\n",
    "test_dataset_input = dataset_inputs[int(dataset_size * (1 - test_dataset_ratio)) :]\n",
    "test_dataset_output = dataset_outputs[int(dataset_size * (1 - test_dataset_ratio)) :]\n",
    "print_system_msg(f\"Training dataset: {len(train_dataset_input)} items | Test dataset: {len(test_dataset_input)} items\")"
   ]
  },
  {
   "cell_type": "markdown",
   "metadata": {},
   "source": [
    "Now we can begin the training process with the training inputs and expected outputs."
   ]
  },
  {
   "cell_type": "code",
   "execution_count": 7,
   "metadata": {},
   "outputs": [
    {
     "name": "stdout",
     "output_type": "stream",
     "text": [
      "[11-05-2024 | 21:18:15] Beginning training with 24000 data points...\n",
      "[11-05-2024 | 21:18:28] 24000 / 24000 -> Training complete! Final error: 0.0447\n",
      "[11-05-2024 | 21:18:28] Training took 13.0s.\n"
     ]
    }
   ],
   "source": [
    "num_iters = len(train_dataset_input)\n",
    "print_system_msg(f\"Beginning training with {num_iters} data points...\")\n",
    "\n",
    "begin_time = datetime.now()\n",
    "\n",
    "for i in range(num_iters):\n",
    "    errors = nn.train(train_dataset_input[i], [train_dataset_output[i]])\n",
    "    rms = calculate_rms(errors)\n",
    "    print_flushed_msg(f\"{i+1} / {num_iters} -> RMS: {rms:.4f}\")\n",
    "\n",
    "end_time = datetime.now()\n",
    "print_flushed_msg(f\"{num_iters} / {num_iters} -> Training complete! Final error: {rms:.4f}\\n\")\n",
    "\n",
    "delta_time = (end_time - begin_time).total_seconds()\n",
    "print_system_msg(f\"Training took {delta_time:.1f}s.\")"
   ]
  },
  {
   "cell_type": "markdown",
   "metadata": {},
   "source": [
    "We can then test the neural network against some inputs and expected outputs to check its accuracy."
   ]
  },
  {
   "cell_type": "code",
   "execution_count": 8,
   "metadata": {},
   "outputs": [
    {
     "name": "stdout",
     "output_type": "stream",
     "text": [
      "[11-05-2024 | 21:18:28] Beginning testing with 6000 data points...\n",
      "[11-05-2024 | 21:18:30] 6000 / 6000 -> Testing complete!\n",
      "[11-05-2024 | 21:18:30] Testing took 1.9s.\n",
      "[11-05-2024 | 21:18:30] Number of calculations per second: 3212\n"
     ]
    }
   ],
   "source": [
    "num_iters = len(test_dataset_input)\n",
    "outputs = []\n",
    "print_system_msg(f\"Beginning testing with {num_iters} data points...\")\n",
    "\n",
    "begin_time = datetime.now()\n",
    "\n",
    "for i in range(num_iters):\n",
    "    print_flushed_msg(f\"{i+1} / {num_iters} -> Testing...\")\n",
    "    output = nn.feedforward(test_dataset_input[i])[0]\n",
    "    outputs.append(output)\n",
    "\n",
    "end_time = datetime.now()\n",
    "print_flushed_msg(f\"{num_iters} / {num_iters} -> Testing complete!\\n\")\n",
    "\n",
    "delta_time = (end_time - begin_time).total_seconds()\n",
    "print_system_msg(f\"Testing took {delta_time:.1f}s.\")\n",
    "print_system_msg(f\"Number of calculations per second: {int(num_iters / delta_time)}\")"
   ]
  },
  {
   "cell_type": "code",
   "execution_count": 9,
   "metadata": {},
   "outputs": [
    {
     "name": "stdout",
     "output_type": "stream",
     "text": [
      "[11-05-2024 | 21:18:30] Average error: 0.59 \t| Percentage error: 0.0023%\n"
     ]
    }
   ],
   "source": [
    "errors = np.array(test_dataset_output) - np.array(outputs)\n",
    "mapped_errors = map_val(errors, OUT_LIMS[0], OUT_LIMS[1], IN_LIMS[0], IN_LIMS[1])\n",
    "\n",
    "avg_error = np.average(mapped_errors)\n",
    "percentage_error = np.abs(avg_error) / IN_LIMS[1]\n",
    "print_system_msg(f\"Average error: {avg_error:.2f} \\t| Percentage error: {percentage_error:.4f}%\")"
   ]
  }
 ],
 "metadata": {
  "kernelspec": {
   "display_name": "neural-network-u-ZqOggc",
   "language": "python",
   "name": "python3"
  },
  "language_info": {
   "codemirror_mode": {
    "name": "ipython",
    "version": 3
   },
   "file_extension": ".py",
   "mimetype": "text/x-python",
   "name": "python",
   "nbconvert_exporter": "python",
   "pygments_lexer": "ipython3",
   "version": "3.11.4"
  }
 },
 "nbformat": 4,
 "nbformat_minor": 2
}
