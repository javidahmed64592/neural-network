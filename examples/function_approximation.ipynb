{
 "cells": [
  {
   "cell_type": "markdown",
   "id": "55a400ff",
   "metadata": {},
   "source": [
    "# Function Approximation\n",
    "\n",
    "This notebook demonstrates how to use a neural network to approximate a mathematical function. We will approximate the function $f(x) = \\sin(x) \\cdot \\cos(2x)$ in the range $[-\\pi, \\pi]$.\n",
    "\n",
    "The notebook covers data generation, neural network construction, training, and performance evaluation, providing insights into how neural networks can learn to approximate nonlinear functions."
   ]
  },
  {
   "cell_type": "markdown",
   "id": "2101f10c",
   "metadata": {},
   "source": [
    "## Code Implementation"
   ]
  },
  {
   "cell_type": "markdown",
   "id": "d8e7fd7e",
   "metadata": {},
   "source": [
    "### Importing the Neural Network Library"
   ]
  },
  {
   "cell_type": "markdown",
   "id": "6c8e5b3d",
   "metadata": {},
   "source": [
    "First, import the necessary classes from the `neural_network` library, as well as supporting libraries for data handling and visualization."
   ]
  },
  {
   "cell_type": "code",
   "execution_count": 252,
   "id": "39166190",
   "metadata": {},
   "outputs": [],
   "source": [
    "import logging\n",
    "\n",
    "import matplotlib.pyplot as plt\n",
    "import numpy as np\n",
    "\n",
    "from neural_network.layer import HiddenLayer, InputLayer, OutputLayer\n",
    "from neural_network.math.activation_functions import LinearActivation, TanhActivation\n",
    "from neural_network.neural_network import NeuralNetwork\n",
    "\n",
    "logging.basicConfig(format=\"%(asctime)s %(message)s\", datefmt=\"[%d-%m-%Y|%I:%M:%S]\", level=logging.INFO)\n",
    "logger = logging.getLogger(__name__)\n",
    "rng = np.random.default_rng()\n"
   ]
  },
  {
   "cell_type": "code",
   "execution_count": 253,
   "id": "efe3ca10",
   "metadata": {},
   "outputs": [],
   "source": [
    "# Neural network parameters\n",
    "HIDDEN_LAYER_SIZES = [32, 16, 8]\n",
    "INPUT_ACTIVATION = LinearActivation\n",
    "HIDDEN_ACTIVATION = TanhActivation\n",
    "OUTPUT_ACTIVATION = LinearActivation\n",
    "WEIGHTS_RANGE = (-1, 1)\n",
    "BIAS_RANGE = (-0.2, 0.2)\n",
    "LR = 0.01\n",
    "\n",
    "# Dataset parameters\n",
    "DATASET_SIZE = 2000\n",
    "TRAIN_SIZE_RATIO = 0.8\n",
    "NUM_EPOCHS = 100\n",
    "\n",
    "# Function parameters\n",
    "X_RANGE = (-np.pi, np.pi)"
   ]
  },
  {
   "cell_type": "markdown",
   "id": "820080d9",
   "metadata": {},
   "source": [
    "### Define the Target Function and Generate Data"
   ]
  },
  {
   "cell_type": "markdown",
   "id": "f361b0a6",
   "metadata": {},
   "source": [
    "In this section, we define the target function $f(x) = \\sin(x) \\cdot \\cos(2x)$ that our neural network will learn to approximate. \n",
    "\n",
    "We'll also create functions to:\n",
    "- Generate training data points from this function\n",
    "- Split the data into training and testing sets\n",
    "- Calculate errors between expected and actual outputs\n",
    "- Shuffle the dataset for better training\n",
    "\n",
    "These utility functions are essential for supervised learning."
   ]
  },
  {
   "cell_type": "code",
   "execution_count": 254,
   "id": "ddc8f196",
   "metadata": {},
   "outputs": [],
   "source": [
    "def target_function(x: float) -> float:\n",
    "    return np.sin(x) * np.cos(2 * x)\n",
    "\n",
    "\n",
    "def training_data_from_num(num: int) -> tuple[float, float]:\n",
    "    \"\"\"\n",
    "    Generate target function outputs from a number to use in training.\n",
    "\n",
    "    Parameters:\n",
    "        num (int): Number to use for training data\n",
    "\n",
    "    Returns:\n",
    "        training_data (tuple[float, float]): Input and expected output\n",
    "    \"\"\"\n",
    "    return ([num / np.pi], target_function(num))\n",
    "\n",
    "def generate_supervised_training_data(dataset_size: int, x_range: tuple[float, float]) -> list[tuple[float, float]]:\n",
    "    \"\"\"\n",
    "    Generate a supervised dataset for training.\n",
    "    The dataset consists of pairs of input values and their corresponding outputs from the target function.\n",
    "\n",
    "    Parameters:\n",
    "        dataset_size (int): The number of data points to generate.\n",
    "        x_range (tuple[float, float]): The range of x values to use for generating the dataset.\n",
    "\n",
    "    Returns:\n",
    "        list: A list of tuples, where each tuple contains an input value and its corresponding output from the target function.\n",
    "    \"\"\"\n",
    "    x = np.linspace(*x_range, dataset_size)\n",
    "    return [training_data_from_num(num) for num in x]\n",
    "\n",
    "def shuffle_data(data: list[tuple[float, float]]) -> list[tuple[float, float]]:\n",
    "    \"\"\"\n",
    "    Shuffle the dataset.\n",
    "\n",
    "    Parameters:\n",
    "        data (list[tuple[float, float]]): The dataset to shuffle.\n",
    "\n",
    "    Returns:\n",
    "        list: The shuffled dataset.\n",
    "    \"\"\"\n",
    "    rng.shuffle(data)\n",
    "    return data\n",
    "\n",
    "def split_data(\n",
    "    data: list[tuple[float, float]], train_size_ratio: float = TRAIN_SIZE_RATIO\n",
    ") -> tuple[list[tuple[float, float]], list[tuple[float, float]]]:\n",
    "    \"\"\"\n",
    "    Split the dataset into training and testing sets.\n",
    "\n",
    "    Parameters:\n",
    "        data (list[tuple[float, float]]): The dataset to split.\n",
    "        train_size_ratio (float): The proportion of the dataset to include in the training split.\n",
    "\n",
    "    Returns:\n",
    "        tuple: A tuple containing the training and testing datasets.\n",
    "    \"\"\"\n",
    "    train_size = int(len(data) * train_size_ratio)\n",
    "    data = shuffle_data(data)\n",
    "    train_data = data[:train_size]\n",
    "    test_data = data[train_size:]\n",
    "    return train_data, test_data\n",
    "\n",
    "\n",
    "def calculate_errors(expected_outputs: np.ndarray, actual_outputs: np.ndarray) -> np.ndarray:\n",
    "    \"\"\"\n",
    "    Calculate the error between expected and actual outputs.\n",
    "\n",
    "    Parameters:\n",
    "        expected_outputs (np.ndarray): The expected output values.\n",
    "        actual_outputs (np.ndarray): The actual output values.\n",
    "\n",
    "    Returns:\n",
    "        errors (np.ndarray): The calculated errors.\n",
    "    \"\"\"\n",
    "    return expected_outputs - actual_outputs\n",
    "\n",
    "\n",
    "def calculate_percentage_error(errors: np.ndarray) -> float:\n",
    "    \"\"\"\n",
    "    Calculate the percentage error from a list of errors.\n",
    "\n",
    "    Parameters:\n",
    "        errors (np.ndarray): The list of errors.\n",
    "\n",
    "    Returns:\n",
    "        percentage_error (float): The average error as a percentage.\n",
    "    \"\"\"\n",
    "    avg_error = np.average(errors)\n",
    "    return np.abs(avg_error) * 100"
   ]
  },
  {
   "cell_type": "markdown",
   "id": "75c4ed93",
   "metadata": {},
   "source": [
    "### Neural Network Creation"
   ]
  },
  {
   "cell_type": "markdown",
   "id": "6606675d",
   "metadata": {},
   "source": [
    "The following functions are used to create and test neural networks using the parameters defined earlier in this notebook."
   ]
  },
  {
   "cell_type": "code",
   "execution_count": 255,
   "id": "010cbb1c",
   "metadata": {},
   "outputs": [],
   "source": [
    "def create_nn(\n",
    "    hidden_layer_sizes: list[int] = HIDDEN_LAYER_SIZES,\n",
    "    input_activation: type = INPUT_ACTIVATION,\n",
    "    hidden_activation: type = HIDDEN_ACTIVATION,\n",
    "    output_activation: type = OUTPUT_ACTIVATION,\n",
    "    weights_range: tuple[float, float] = WEIGHTS_RANGE,\n",
    "    bias_range: tuple[float, float] = BIAS_RANGE,\n",
    "    lr: float = LR,\n",
    ") -> NeuralNetwork:\n",
    "    \"\"\"Create a neural network with specified parameters.\"\"\"\n",
    "    input_layer = InputLayer(size=1, activation=input_activation)\n",
    "    hidden_layers = [\n",
    "        HiddenLayer(size=size, activation=hidden_activation, weights_range=weights_range, bias_range=bias_range)\n",
    "        for size in hidden_layer_sizes\n",
    "    ]\n",
    "    output_layer = OutputLayer(size=1, activation=output_activation, weights_range=weights_range, bias_range=bias_range)\n",
    "\n",
    "    return NeuralNetwork.from_layers(layers=[input_layer, *hidden_layers, output_layer], lr=lr)\n",
    "\n",
    "\n",
    "def evaluate_nn(nn: NeuralNetwork, data: list[tuple[list[float], float]]) -> tuple[np.ndarray, float]:\n",
    "    \"\"\"\n",
    "    Evaluate the neural network on a dataset.\n",
    "\n",
    "    Parameters:\n",
    "        nn (NeuralNetwork): The neural network to evaluate.\n",
    "        data (list[tuple[list[float], float]]): The dataset to evaluate on.\n",
    "\n",
    "    Returns:\n",
    "        errors (np.ndarray): The list of errors.\n",
    "        percentage_error (float): The average error as a percentage.\n",
    "    \"\"\"\n",
    "    dataset_size = len(data)\n",
    "    outputs = []\n",
    "    expected = []\n",
    "\n",
    "    for i in range(dataset_size):\n",
    "        inputs = data[i][0]\n",
    "        expected_output = data[i][1]\n",
    "        output = nn.feedforward(inputs)[0]\n",
    "        outputs.append(output)\n",
    "        expected.append(expected_output)\n",
    "\n",
    "    errors = calculate_errors(\n",
    "        expected_outputs=np.array(expected), actual_outputs=np.array(outputs)\n",
    "    )\n",
    "    percentage_error = calculate_percentage_error(errors)\n",
    "    return errors, percentage_error"
   ]
  },
  {
   "cell_type": "markdown",
   "id": "f63469a1",
   "metadata": {},
   "source": [
    "### Training the Neural Network"
   ]
  },
  {
   "cell_type": "markdown",
   "id": "1619a853",
   "metadata": {},
   "source": [
    "Now we can run the training algorithm and test the neural network to evaluate its accuracy.\n",
    "First, we will use the supervised learning approach:"
   ]
  },
  {
   "cell_type": "code",
   "execution_count": 256,
   "id": "6d8eedec",
   "metadata": {},
   "outputs": [
    {
     "name": "stderr",
     "output_type": "stream",
     "text": [
      "[05-06-2025|09:32:40] Creating neural network for supervised training...\n",
      "[05-06-2025|09:32:40] Generating supervised training data with 2000 data points...\n",
      "[05-06-2025|09:32:40] Training neural network with 1600 data points for 100 epochs...\n",
      "[05-06-2025|09:33:12] Testing neural network with 400 data points...\n",
      "[05-06-2025|09:33:12] Average error: 0.0004\n",
      "[05-06-2025|09:33:12] Supervised training percentage error: 0.0376%\n"
     ]
    }
   ],
   "source": [
    "logger.info(\"Creating neural network for supervised training...\")\n",
    "nn_supervised = create_nn()\n",
    "logger.info(\"Generating supervised training data with %s data points...\", DATASET_SIZE)\n",
    "data_supervised = generate_supervised_training_data(DATASET_SIZE, X_RANGE)\n",
    "training_data_supervised, testing_data_supervised = split_data(data_supervised)\n",
    "logger.info(\"Training neural network with %s data points for %s epochs...\", len(training_data_supervised), NUM_EPOCHS)\n",
    "nn_supervised.run_supervised_training(\n",
    "    inputs=[input_data for input_data, _ in training_data_supervised],\n",
    "    expected_outputs=[expected_output for _, expected_output in training_data_supervised],\n",
    "    epochs=NUM_EPOCHS,\n",
    ")\n",
    "\n",
    "logger.info(\"Testing neural network with %s data points...\", len(testing_data_supervised))\n",
    "errors, percentage_error = evaluate_nn(nn_supervised, testing_data_supervised)\n",
    "avg_error = np.average(errors)\n",
    "logger.info(\"Average error: %.4f\", avg_error)\n",
    "logger.info(\"Supervised training percentage error: %.4f%%\", percentage_error)"
   ]
  },
  {
   "cell_type": "markdown",
   "id": "6ea47e37",
   "metadata": {},
   "source": [
    "### Testing and Visualization"
   ]
  },
  {
   "cell_type": "markdown",
   "id": "b7922762",
   "metadata": {},
   "source": [
    "We can visualise the results by comparing the neural network outputs with the actual outputs of the target function."
   ]
  },
  {
   "cell_type": "code",
   "execution_count": 257,
   "id": "bf1c88fd",
   "metadata": {},
   "outputs": [],
   "source": [
    "def plot_results(nn: NeuralNetwork, title: str) -> None:\n",
    "    \"\"\"\n",
    "    Plot the results of the neural network against the target function.\n",
    "\n",
    "    Parameters:\n",
    "        nn (NeuralNetwork): The neural network to plot.\n",
    "        title (str): The title of the plot.\n",
    "    \"\"\"\n",
    "    x = np.linspace(*X_RANGE, 100)\n",
    "    y_true = [target_function(num) for num in x]\n",
    "    y_pred = [nn.feedforward([num/np.pi])[0] for num in x]\n",
    "\n",
    "    plt.figure(figsize=(10, 5))\n",
    "    plt.plot(x, y_true, label=\"Target Function\", color=\"blue\")\n",
    "    plt.plot(x, y_pred, label=\"Neural Network Output\", color=\"red\")\n",
    "    plt.title(title)\n",
    "    plt.xlabel(\"Input\")\n",
    "    plt.ylabel(\"Output\")\n",
    "    plt.legend()\n",
    "    plt.grid()\n",
    "    plt.show()"
   ]
  },
  {
   "cell_type": "code",
   "execution_count": 258,
   "id": "ef73969b",
   "metadata": {},
   "outputs": [
    {
     "data": {
      "image/png": "[encoded data removed]",
      "text/plain": [
       "<Figure size 1000x500 with 1 Axes>"
      ]
     },
     "metadata": {},
     "output_type": "display_data"
    }
   ],
   "source": [
    "plot_results(nn_supervised, \"Supervised Training Results\")"
   ]
  }
 ],
 "metadata": {
  "kernelspec": {
   "display_name": "neural-network-u-ZqOggc",
   "language": "python",
   "name": "python3"
  },
  "language_info": {
   "codemirror_mode": {
    "name": "ipython",
    "version": 3
   },
   "file_extension": ".py",
   "mimetype": "text/x-python",
   "name": "python",
   "nbconvert_exporter": "python",
   "pygments_lexer": "ipython3",
   "version": "3.12.6"
  }
 },
 "nbformat": 4,
 "nbformat_minor": 5
}
